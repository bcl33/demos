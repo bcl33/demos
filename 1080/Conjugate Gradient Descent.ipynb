{
 "cells": [
  {
   "cell_type": "code",
   "execution_count": 82,
   "metadata": {
    "collapsed": true
   },
   "outputs": [],
   "source": [
    "import numpy as np"
   ]
  },
  {
   "cell_type": "code",
   "execution_count": 84,
   "metadata": {
    "collapsed": false
   },
   "outputs": [],
   "source": [
    "N = 10\n",
    "B = [[.2*np.random.randint(-N,N) for i in range(N)] for i in range(N)]\n",
    "A = np.dot(np.transpose(B),B)\n",
    "x = np.transpose([.5*np.random.randint(-N,N) for i in range(N)])\n",
    "b = np.transpose([.5*np.random.randint(-N,N) for i in range(N)])"
   ]
  },
  {
   "cell_type": "code",
   "execution_count": 85,
   "metadata": {
    "collapsed": false
   },
   "outputs": [],
   "source": [
    "r = b - np.dot(A,x)\n",
    "d = r\n",
    "rs = np.dot(r,r)\n",
    "for i in range(10):\n",
    "    temp_r = r\n",
    "    alpha = np.dot(d,r)/np.dot(d, np.dot(A,d))\n",
    "    x = x + alpha*d\n",
    "    r = b - np.dot(A,x)\n",
    "    beta = np.dot(r,r)/np.dot(temp_r,temp_r)\n",
    "    d = r + beta*d\n",
    "    rs = np.append(rs,np.dot(r,r))"
   ]
  },
  {
   "cell_type": "code",
   "execution_count": 86,
   "metadata": {
    "collapsed": false
   },
   "outputs": [
    {
     "data": {
      "text/plain": [
       "array([  2.59626020e+04,   1.37601878e+03,   5.42897170e+02,\n",
       "         2.01176795e+02,   9.00657463e+01,   1.12715045e+02,\n",
       "         6.37620782e+01,   5.06202012e+00,   2.93918690e+00,\n",
       "         3.28016068e-01,   2.30021471e-16])"
      ]
     },
     "execution_count": 86,
     "metadata": {},
     "output_type": "execute_result"
    }
   ],
   "source": [
    "rs"
   ]
  }
 ],
 "metadata": {
  "kernelspec": {
   "display_name": "Python 2",
   "language": "python",
   "name": "python2"
  },
  "language_info": {
   "codemirror_mode": {
    "name": "ipython",
    "version": 2
   },
   "file_extension": ".py",
   "mimetype": "text/x-python",
   "name": "python",
   "nbconvert_exporter": "python",
   "pygments_lexer": "ipython2",
   "version": "2.7.9"
  }
 },
 "nbformat": 4,
 "nbformat_minor": 2
}
