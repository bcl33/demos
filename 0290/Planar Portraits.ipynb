{
 "cells": [
  {
   "cell_type": "code",
   "execution_count": null,
   "metadata": {
    "collapsed": true
   },
   "outputs": [],
   "source": [
    "%matplotlib inline\n",
    "import matplotlib as mpl\n",
    "import matplotlib.pyplot as plt\n",
    "from mpl_toolkits.mplot3d import Axes3D\n",
    "import numpy as np"
   ]
  },
  {
   "cell_type": "code",
   "execution_count": null,
   "metadata": {
    "collapsed": true
   },
   "outputs": [],
   "source": [
    "def rk4_sys(t0,tf,y0,v0,yp,vp,N):\n",
    "    ts = [t0]\n",
    "    ys = [y0]\n",
    "    vs = [v0]\n",
    "    delta = (tf - t0)/float(N)\n",
    "    hd = delta/2\n",
    "    for i in range(N):\n",
    "        y0temp = y0\n",
    "        s1 = yp(t0,y0,v0)\n",
    "        s2 = yp(t0 + hd,y0 + hd*s1,v0)\n",
    "        s3 = yp(t0 + hd,y0 + hd*s2,v0)\n",
    "        s4 = yp(t0 + delta,y0 + delta*s3,v0)        \n",
    "        y0 += delta*(s1 + 2*s2 + 2*s3 + s4)/6\n",
    "        s1 = vp(t0,y0temp,v0)\n",
    "        s2 = vp(t0 + hd,y0temp,v0 + hd*s1)\n",
    "        s3 = vp(t0 + hd,y0temp,v0 + hd*s2)\n",
    "        s4 = vp(t0 + delta,y0temp,v0 + delta*s3)        \n",
    "        v0 += delta*(s1 + 2*s2 + 2*s3 + s4)/6\n",
    "        t0 += delta\n",
    "        ts = np.append(ts,t0)\n",
    "        ys = np.append(ys,y0)\n",
    "        vs = np.append(vs,v0)\n",
    "    return ts, ys, vs"
   ]
  },
  {
   "cell_type": "markdown",
   "metadata": {},
   "source": [
    "### Saddle Point"
   ]
  },
  {
   "cell_type": "markdown",
   "metadata": {},
   "source": [
    "\\begin{equation*}\n",
    "\\textbf{y}' = \n",
    "\\begin{pmatrix} \n",
    "1 & 4 \\\\\n",
    "2 & -1 \n",
    "\\end{pmatrix}\n",
    "\\textbf{y}\n",
    "\\end{equation*}"
   ]
  },
  {
   "cell_type": "markdown",
   "metadata": {},
   "source": [
    "\\begin{equation*}\n",
    "\\textbf{y}(t) = C_1 e^{-3t} \\begin{pmatrix} -1 \\\\ 1 \\end{pmatrix} + C_2 e^{3t} \\begin{pmatrix} 2 \\\\ 1 \\end{pmatrix}\n",
    "\\end{equation*}"
   ]
  },
  {
   "cell_type": "code",
   "execution_count": null,
   "metadata": {
    "collapsed": true
   },
   "outputs": [],
   "source": [
    "N = 10000\n",
    "t0 = 0\n",
    "tf = .7\n",
    "y10 = -8\n",
    "y20 = 10\n",
    "def y1p(t,y1,y2):\n",
    "    return y1 + 4*y2\n",
    "def y2p(t,y1,y2):\n",
    "    return 2*y1 - y2"
   ]
  },
  {
   "cell_type": "code",
   "execution_count": null,
   "metadata": {
    "collapsed": false
   },
   "outputs": [],
   "source": [
    "ts, y1s, y2s = rk4_sys(t0,tf,y10,y20,y1p,y2p,N)\n",
    "fig, axarr = plt.subplots(2)\n",
    "axarr[0].plot(y1s,y2s)\n",
    "axarr[1].plot(ts,y1s,ts,y2s)"
   ]
  },
  {
   "cell_type": "code",
   "execution_count": null,
   "metadata": {
    "collapsed": false
   },
   "outputs": [],
   "source": [
    "y1max = 10.0\n",
    "y1min = -10.0\n",
    "NY1 = 20\n",
    "y2max = 10.0\n",
    "y2min = -10.0\n",
    "NY2 = 20\n",
    "y1 = np.linspace(y1min,y1max,NY1)\n",
    "y2 = np.linspace(y2min,y2max,NY2)\n",
    "Y1, Y2 = np.meshgrid(y1, y2)\n",
    "y1comp = y1p(0,Y1,Y2)\n",
    "y2comp = y2p(0,Y1,Y2)\n",
    "QP = plt.quiver(Y1, Y2, y1comp, y2comp)\n",
    "plt.plot(y1,-y1)\n",
    "plt.plot(y1,.5*y1)\n",
    "plt.plot(y1s,y2s)"
   ]
  },
  {
   "cell_type": "markdown",
   "metadata": {},
   "source": [
    "### Nodal Sink"
   ]
  },
  {
   "cell_type": "markdown",
   "metadata": {},
   "source": [
    "\\begin{equation*}\n",
    "\\textbf{y}' = \n",
    "\\begin{pmatrix} \n",
    "-3 & -1 \\\\\n",
    "-1 & -3 \n",
    "\\end{pmatrix}\n",
    "\\textbf{y}\n",
    "\\end{equation*}"
   ]
  },
  {
   "cell_type": "markdown",
   "metadata": {},
   "source": [
    "\\begin{equation*}\n",
    "\\textbf{y}(t) = C_1 e^{-2t} \\begin{pmatrix} -1 \\\\ 1 \\end{pmatrix} + C_2 e^{-4t} \\begin{pmatrix} 1 \\\\ 1 \\end{pmatrix}\n",
    "\\end{equation*}"
   ]
  },
  {
   "cell_type": "code",
   "execution_count": null,
   "metadata": {
    "collapsed": true
   },
   "outputs": [],
   "source": [
    "N = 10000\n",
    "t0 = 0\n",
    "tf = 10\n",
    "y10 = -8\n",
    "y20 = 10\n",
    "def y1p(t,y1,y2):\n",
    "    return y1 - 2*y2\n",
    "def y2p(t,y1,y2):\n",
    "    return 3*y1 - 4*y2"
   ]
  },
  {
   "cell_type": "code",
   "execution_count": null,
   "metadata": {
    "collapsed": false
   },
   "outputs": [],
   "source": [
    "ts, y1s, y2s = rk4_sys(t0,tf,y10,y20,y1p,y2p,N)\n",
    "fig, axarr = plt.subplots(2)\n",
    "axarr[0].plot(y1s,y2s)\n",
    "axarr[1].plot(ts,y1s,ts,y2s)"
   ]
  },
  {
   "cell_type": "code",
   "execution_count": null,
   "metadata": {
    "collapsed": false
   },
   "outputs": [],
   "source": [
    "y1max = 20.0\n",
    "y1min = -20.0\n",
    "NY1 = 20\n",
    "y2max = 10.0\n",
    "y2min = -10.0\n",
    "NY2 = 20\n",
    "y1 = np.linspace(y1min,y1max,NY1)\n",
    "y2 = np.linspace(y2min,y2max,NY2)\n",
    "Y1, Y2 = np.meshgrid(y1, y2)\n",
    "y1comp = y1p(0,Y1,Y2)\n",
    "y2comp = y2p(0,Y1,Y2)\n",
    "QP = plt.quiver(Y1, Y2, y1comp, y2comp)\n",
    "plt.plot(np.linspace(-10,10,NY1),np.linspace(-10,10,NY1))\n",
    "plt.plot(np.linspace(-7,7,NY1),3/2.*np.linspace(-7,7,NY1))\n",
    "plt.plot(y1s,y2s)\n",
    "plt.ylim(-10,10)"
   ]
  },
  {
   "cell_type": "markdown",
   "metadata": {},
   "source": [
    "### Nodal Source"
   ]
  },
  {
   "cell_type": "markdown",
   "metadata": {},
   "source": [
    "\\begin{equation*}\n",
    "\\textbf{y}' = \n",
    "\\begin{pmatrix} \n",
    "3 & 1 \\\\\n",
    "1 & 3 \n",
    "\\end{pmatrix}\n",
    "\\textbf{y}\n",
    "\\end{equation*}"
   ]
  },
  {
   "cell_type": "markdown",
   "metadata": {},
   "source": [
    "\\begin{equation*}\n",
    "\\textbf{y}(t) = C_1 e^{2t} \\begin{pmatrix} -1 \\\\ 1 \\end{pmatrix} + C_2 e^{4t} \\begin{pmatrix} 1 \\\\ 1 \\end{pmatrix}\n",
    "\\end{equation*}"
   ]
  },
  {
   "cell_type": "code",
   "execution_count": null,
   "metadata": {
    "collapsed": true
   },
   "outputs": [],
   "source": [
    "N = 10000\n",
    "t0 = 0\n",
    "tf = 1.4\n",
    "y10 = .1\n",
    "y20 = .00001\n",
    "def y1p(t,y1,y2):\n",
    "    return 3*y1 + y2\n",
    "def y2p(t,y1,y2):\n",
    "    return y1 + 3*y2"
   ]
  },
  {
   "cell_type": "code",
   "execution_count": null,
   "metadata": {
    "collapsed": false
   },
   "outputs": [],
   "source": [
    "ts, y1s, y2s = rk4_sys(t0,tf,y10,y20,y1p,y2p,N)\n",
    "fig, axarr = plt.subplots(2)\n",
    "axarr[0].plot(y1s,y2s)\n",
    "axarr[1].plot(ts,y1s,ts,y2s)"
   ]
  },
  {
   "cell_type": "code",
   "execution_count": null,
   "metadata": {
    "collapsed": false
   },
   "outputs": [],
   "source": [
    "y1max = 10.0\n",
    "y1min = -10.0\n",
    "NY1 = 30\n",
    "y2max = 10.0\n",
    "y2min = -10.0\n",
    "NY2 = 30\n",
    "y1 = np.linspace(y1min,y1max,NY1)\n",
    "y2 = np.linspace(y2min,y2max,NY2)\n",
    "Y1, Y2 = np.meshgrid(y1, y2)\n",
    "y1comp = y1p(0,Y1,Y2)\n",
    "y2comp = y2p(0,Y1,Y2)\n",
    "QP = plt.quiver(Y1, Y2, y1comp, y2comp)\n",
    "plt.plot(y1,-y1)\n",
    "plt.plot(y1,y1)\n",
    "plt.plot(y1s,y2s)\n",
    "plt.xlim(-10,10)\n",
    "plt.ylim(-10,10)"
   ]
  },
  {
   "cell_type": "markdown",
   "metadata": {},
   "source": [
    "### Pure Imaginary Roots"
   ]
  },
  {
   "cell_type": "markdown",
   "metadata": {},
   "source": [
    "\\begin{equation*}\n",
    "\\textbf{y}' = \n",
    "\\begin{pmatrix} \n",
    "0 & 2 \\\\\n",
    "-2 & 0 \n",
    "\\end{pmatrix}\n",
    "\\textbf{y}\n",
    "\\end{equation*}"
   ]
  },
  {
   "cell_type": "markdown",
   "metadata": {},
   "source": [
    "\\begin{equation*}\n",
    "\\textbf{y}(t) = C_1 \\begin{pmatrix} \\mathrm{cos}\\,2t \\\\ -\\mathrm{sin}\\,2t \\end{pmatrix} + C_2 \\begin{pmatrix} \\mathrm{sin}\\,2t \\\\ \\mathrm{cos}\\,2t \\end{pmatrix}\n",
    "\\end{equation*}"
   ]
  },
  {
   "cell_type": "code",
   "execution_count": null,
   "metadata": {
    "collapsed": true
   },
   "outputs": [],
   "source": [
    "N = 10000\n",
    "t0 = 0\n",
    "tf = 5\n",
    "y10 = 1\n",
    "y20 = 1\n",
    "def y1p(t,y1,y2):\n",
    "    return 2*y2\n",
    "def y2p(t,y1,y2):\n",
    "    return -2*y1"
   ]
  },
  {
   "cell_type": "code",
   "execution_count": null,
   "metadata": {
    "collapsed": false
   },
   "outputs": [],
   "source": [
    "ts, y1s, y2s = rk4_sys(t0,tf,y10,y20,y1p,y2p,N)\n",
    "fig, axarr = plt.subplots(2)\n",
    "axarr[0].plot(y1s,y2s)\n",
    "axarr[1].plot(ts,y1s,ts,y2s)"
   ]
  },
  {
   "cell_type": "code",
   "execution_count": null,
   "metadata": {
    "collapsed": false
   },
   "outputs": [],
   "source": [
    "y1max = 2.0\n",
    "y1min = -2.0\n",
    "NY1 = 30\n",
    "y2max = 2.0\n",
    "y2min = -2.0\n",
    "NY2 = 30\n",
    "y1 = np.linspace(y1min,y1max,NY1)\n",
    "y2 = np.linspace(y2min,y2max,NY2)\n",
    "Y1, Y2 = np.meshgrid(y1, y2)\n",
    "y1comp = y1p(0,Y1,Y2)\n",
    "y2comp = y2p(0,Y1,Y2)\n",
    "QP = plt.quiver(Y1, Y2, y1comp, y2comp)\n",
    "plt.plot(y1s,y2s)"
   ]
  },
  {
   "cell_type": "markdown",
   "metadata": {
    "deletable": true,
    "editable": true
   },
   "source": [
    "### Complex Roots"
   ]
  },
  {
   "cell_type": "markdown",
   "metadata": {
    "deletable": true,
    "editable": true
   },
   "source": [
    "\\begin{equation*}\n",
    "\\textbf{y}' = \n",
    "\\begin{pmatrix} \n",
    "1 & -4 \\\\\n",
    "2 & -3 \n",
    "\\end{pmatrix}\n",
    "\\textbf{y}\n",
    "\\end{equation*}"
   ]
  },
  {
   "cell_type": "markdown",
   "metadata": {
    "deletable": true,
    "editable": true
   },
   "source": [
    "\\begin{equation*}\n",
    "\\textbf{y}(t) = C_1 \\begin{pmatrix} \\mathrm{cos}\\,2t \\\\ -\\mathrm{sin}\\,2t \\end{pmatrix} + C_2 \\begin{pmatrix} \\mathrm{sin}\\,2t \\\\ \\mathrm{cos}\\,2t \\end{pmatrix}\n",
    "\\end{equation*}"
   ]
  },
  {
   "cell_type": "code",
   "execution_count": null,
   "metadata": {
    "collapsed": true
   },
   "outputs": [],
   "source": [
    "N = 10000\n",
    "t0 = 0\n",
    "tf = 5\n",
    "y10 = 1\n",
    "y20 = 1\n",
    "def y1p(t,y1,y2):\n",
    "    return y1 - 4*y2\n",
    "def y2p(t,y1,y2):\n",
    "    return 2*y1 - 3*y2"
   ]
  },
  {
   "cell_type": "code",
   "execution_count": null,
   "metadata": {
    "collapsed": false
   },
   "outputs": [],
   "source": [
    "ts, y1s, y2s = rk4_sys(t0,tf,y10,y20,y1p,y2p,N)\n",
    "fig, axarr = plt.subplots(2)\n",
    "axarr[0].plot(y1s,y2s)\n",
    "axarr[1].plot(ts,y1s,ts,y2s)"
   ]
  },
  {
   "cell_type": "code",
   "execution_count": null,
   "metadata": {
    "collapsed": false
   },
   "outputs": [],
   "source": [
    "y1max = 1.0\n",
    "y1min = -1.0\n",
    "NY1 = 30\n",
    "y2max = 1.0\n",
    "y2min = -.3\n",
    "NY2 = 30\n",
    "y1 = np.linspace(y1min,y1max,NY1)\n",
    "y2 = np.linspace(y2min,y2max,NY2)\n",
    "Y1, Y2 = np.meshgrid(y1, y2)\n",
    "y1comp = y1p(0,Y1,Y2)\n",
    "y2comp = y2p(0,Y1,Y2)\n",
    "QP = plt.quiver(Y1, Y2, y1comp, y2comp)\n",
    "plt.plot(y1s,y2s)\n",
    "plt.ylim(-.3,1)"
   ]
  }
 ],
 "metadata": {
  "kernelspec": {
   "display_name": "Python 2",
   "language": "python",
   "name": "python2"
  },
  "language_info": {
   "codemirror_mode": {
    "name": "ipython",
    "version": 2
   },
   "file_extension": ".py",
   "mimetype": "text/x-python",
   "name": "python",
   "nbconvert_exporter": "python",
   "pygments_lexer": "ipython2",
   "version": "2.7.9"
  }
 },
 "nbformat": 4,
 "nbformat_minor": 2
}
